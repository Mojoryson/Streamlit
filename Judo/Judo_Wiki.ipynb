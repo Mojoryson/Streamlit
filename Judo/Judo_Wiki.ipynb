{
 "cells": [
  {
   "cell_type": "markdown",
   "metadata": {},
   "source": []
  },
  {
   "cell_type": "code",
   "execution_count": 28,
   "metadata": {},
   "outputs": [],
   "source": [
    "from bs4 import BeautifulSoup\n",
    "import pandas as pd\n",
    "import requests\n"
   ]
  },
  {
   "cell_type": "code",
   "execution_count": 29,
   "metadata": {},
   "outputs": [],
   "source": [
    "# Add headers to mimic a browser\n",
    "headers = {\n",
    "    \"User-Agent\": \"Mozilla/5.0 (Windows NT 10.0; Win64; x64) AppleWebKit/537.36 (KHTML, like Gecko) Chrome/91.0.4472.124 Safari/537.36\",\n",
    "    \"Accept-Language\": \"en-US,en;q=0.9\",\n",
    "    \"Accept\": \"text/html,application/xhtml+xml,application/xml;q=0.9,image/avif,image/webp,image/apng,*/*;q=0.8\",\n",
    "    \"Connection\": \"keep-alive\",\n",
    "}"
   ]
  },
  {
   "cell_type": "code",
   "execution_count": 30,
   "metadata": {},
   "outputs": [],
   "source": [
    "url = \"https://blackbeltwiki.com/judo-techniques\"\n",
    "\n",
    "response = requests.get(url, headers=headers)\n",
    "html_content = response.text\n",
    "if response.status_code == 200:\n",
    "    soup = BeautifulSoup(html_content, 'html.parser')\n",
    "else:\n",
    "    print(f\"Error: Could not load page. Status Code: {response.status_code}\")"
   ]
  },
  {
   "cell_type": "code",
   "execution_count": 39,
   "metadata": {},
   "outputs": [
    {
     "name": "stdout",
     "output_type": "stream",
     "text": [
      "                             Category  \\\n",
      "0    Ukemui – Judo Breakfalls & Rolls   \n",
      "1    Ukemui – Judo Breakfalls & Rolls   \n",
      "2    Ukemui – Judo Breakfalls & Rolls   \n",
      "3    Ukemui – Judo Breakfalls & Rolls   \n",
      "4             Nage Waza – Judo Throws   \n",
      "..                                ...   \n",
      "287         Make Your Own Home “Dojo”   \n",
      "288         Make Your Own Home “Dojo”   \n",
      "289         Make Your Own Home “Dojo”   \n",
      "290         Make Your Own Home “Dojo”   \n",
      "291         Make Your Own Home “Dojo”   \n",
      "\n",
      "                                           Subcategory          Move_Name  \\\n",
      "0                                                 None          Mae Ukemi   \n",
      "1                                                 None       Ushiro Ukemi   \n",
      "2                                                 None         Yoko Ukemi   \n",
      "3                                                 None       Zenpo Kaiten   \n",
      "4              Te Waza – Judo Throws (Hand Techniques)    Ippon Seoi Nage   \n",
      "..                                                 ...                ...   \n",
      "287  Martial Arts Training Equipment– Practice mats...  Strength Training   \n",
      "288  Martial Arts Training Equipment– Practice mats...         Stretching   \n",
      "289  Martial Arts Training Equipment– Practice mats...  Warm-Up Exercises   \n",
      "290  Martial Arts Training Equipment– Practice mats...               Yoga   \n",
      "291  Martial Arts Training Equipment– Practice mats...      Other Fitness   \n",
      "\n",
      "                                             Move_Link  \n",
      "0              https://www.blackbeltwiki.com/mae-ukemi  \n",
      "1           https://www.blackbeltwiki.com/ushiro-ukemi  \n",
      "2             https://www.blackbeltwiki.com/yoko-ukemi  \n",
      "3           https://www.blackbeltwiki.com/zenpo-kaiten  \n",
      "4        https://www.blackbeltwiki.com/ippon-seoi-nage  \n",
      "..                                                 ...  \n",
      "287        https://blackbeltwiki.com/strength-training  \n",
      "288               https://blackbeltwiki.com/stretching  \n",
      "289        https://blackbeltwiki.com/warm-up-exercises  \n",
      "290    https://blackbeltwiki.com/yoga-for-martial-arts  \n",
      "291  https://blackbeltwiki.com/martial-arts-physica...  \n",
      "\n",
      "[292 rows x 4 columns]\n"
     ]
    }
   ],
   "source": [
    "# Parse the HTML Content\n",
    "\n",
    "# Initialize lists to store the data\n",
    "categories = []\n",
    "subcategories = []\n",
    "move_names = []\n",
    "move_links = []\n",
    "\n",
    "# Extract data from the HTML\n",
    "current_category = None\n",
    "current_subcategory = None\n",
    "\n",
    "for tag in soup.find_all(['p', 'ul']):\n",
    "    if tag.name == 'p':\n",
    "        strong_tag = tag.find('strong')\n",
    "        if strong_tag:\n",
    "            current_category = strong_tag.get_text(strip=True)\n",
    "            current_subcategory = None\n",
    "        else:\n",
    "            current_subcategory = tag.get_text(strip=True)\n",
    "    elif tag.name == 'ul' and current_category:\n",
    "        for li_tag in tag.find_all('li'):\n",
    "            a_tag = li_tag.find('a')\n",
    "            move_name = a_tag.get_text(strip=True)\n",
    "            move_link = a_tag['href']\n",
    "            categories.append(current_category)\n",
    "            subcategories.append(current_subcategory)\n",
    "            move_names.append(move_name)\n",
    "            move_links.append(move_link)\n",
    "\n",
    "# Create a DataFrame\n",
    "df = pd.DataFrame({\n",
    "    'Category': categories,\n",
    "    'Subcategory': subcategories,\n",
    "    'Move_Name': move_names,\n",
    "    'Move_Link': move_links\n",
    "})\n",
    "\n",
    "# Display the DataFrame\n",
    "print(df)\n"
   ]
  },
  {
   "cell_type": "code",
   "execution_count": null,
   "metadata": {},
   "outputs": [],
   "source": [
    "# Write the DataFrame to a CSV file\n",
    "df.to_csv('data/judo_techniques.csv', index=False)"
   ]
  },
  {
   "cell_type": "code",
   "execution_count": 32,
   "metadata": {},
   "outputs": [
    {
     "name": "stdout",
     "output_type": "stream",
     "text": [
      "                           Category                              Subcategory  \\\n",
      "0  Ukemui – Judo Breakfalls & Rolls                                      NaN   \n",
      "1  Ukemui – Judo Breakfalls & Rolls                                      NaN   \n",
      "2  Ukemui – Judo Breakfalls & Rolls                                      NaN   \n",
      "3  Ukemui – Judo Breakfalls & Rolls                                      NaN   \n",
      "4           Nage Waza – Judo Throws  Te Waza – Judo Throws (Hand Techniques)   \n",
      "\n",
      "         Move_Name                                      Move_Link  \n",
      "0        Mae Ukemi        https://www.blackbeltwiki.com/mae-ukemi  \n",
      "1     Ushiro Ukemi     https://www.blackbeltwiki.com/ushiro-ukemi  \n",
      "2       Yoko Ukemi       https://www.blackbeltwiki.com/yoko-ukemi  \n",
      "3     Zenpo Kaiten     https://www.blackbeltwiki.com/zenpo-kaiten  \n",
      "4  Ippon Seoi Nage  https://www.blackbeltwiki.com/ippon-seoi-nage  \n"
     ]
    }
   ],
   "source": [
    "# Create new DataFrame from the CSV file to clena the data\n",
    "df_judo = pd.read_csv('data/judo_techniques.csv')\n",
    "\n",
    "print(df_judo.head())"
   ]
  },
  {
   "cell_type": "code",
   "execution_count": 33,
   "metadata": {},
   "outputs": [
    {
     "name": "stdout",
     "output_type": "stream",
     "text": [
      "<class 'pandas.core.frame.DataFrame'>\n",
      "RangeIndex: 292 entries, 0 to 291\n",
      "Data columns (total 4 columns):\n",
      " #   Column       Non-Null Count  Dtype \n",
      "---  ------       --------------  ----- \n",
      " 0   Category     292 non-null    object\n",
      " 1   Subcategory  262 non-null    object\n",
      " 2   Move_Name    292 non-null    object\n",
      " 3   Move_Link    292 non-null    object\n",
      "dtypes: object(4)\n",
      "memory usage: 9.3+ KB\n"
     ]
    },
    {
     "data": {
      "text/html": [
       "<div>\n",
       "<style scoped>\n",
       "    .dataframe tbody tr th:only-of-type {\n",
       "        vertical-align: middle;\n",
       "    }\n",
       "\n",
       "    .dataframe tbody tr th {\n",
       "        vertical-align: top;\n",
       "    }\n",
       "\n",
       "    .dataframe thead th {\n",
       "        text-align: right;\n",
       "    }\n",
       "</style>\n",
       "<table border=\"1\" class=\"dataframe\">\n",
       "  <thead>\n",
       "    <tr style=\"text-align: right;\">\n",
       "      <th></th>\n",
       "      <th>Category</th>\n",
       "      <th>Subcategory</th>\n",
       "      <th>Move_Name</th>\n",
       "      <th>Move_Link</th>\n",
       "    </tr>\n",
       "  </thead>\n",
       "  <tbody>\n",
       "    <tr>\n",
       "      <th>287</th>\n",
       "      <td>Make Your Own Home “Dojo”</td>\n",
       "      <td>Martial Arts Training Equipment– Practice mats...</td>\n",
       "      <td>Strength Training</td>\n",
       "      <td>https://blackbeltwiki.com/strength-training</td>\n",
       "    </tr>\n",
       "    <tr>\n",
       "      <th>288</th>\n",
       "      <td>Make Your Own Home “Dojo”</td>\n",
       "      <td>Martial Arts Training Equipment– Practice mats...</td>\n",
       "      <td>Stretching</td>\n",
       "      <td>https://blackbeltwiki.com/stretching</td>\n",
       "    </tr>\n",
       "    <tr>\n",
       "      <th>289</th>\n",
       "      <td>Make Your Own Home “Dojo”</td>\n",
       "      <td>Martial Arts Training Equipment– Practice mats...</td>\n",
       "      <td>Warm-Up Exercises</td>\n",
       "      <td>https://blackbeltwiki.com/warm-up-exercises</td>\n",
       "    </tr>\n",
       "    <tr>\n",
       "      <th>290</th>\n",
       "      <td>Make Your Own Home “Dojo”</td>\n",
       "      <td>Martial Arts Training Equipment– Practice mats...</td>\n",
       "      <td>Yoga</td>\n",
       "      <td>https://blackbeltwiki.com/yoga-for-martial-arts</td>\n",
       "    </tr>\n",
       "    <tr>\n",
       "      <th>291</th>\n",
       "      <td>Make Your Own Home “Dojo”</td>\n",
       "      <td>Martial Arts Training Equipment– Practice mats...</td>\n",
       "      <td>Other Fitness</td>\n",
       "      <td>https://blackbeltwiki.com/martial-arts-physica...</td>\n",
       "    </tr>\n",
       "  </tbody>\n",
       "</table>\n",
       "</div>"
      ],
      "text/plain": [
       "                      Category  \\\n",
       "287  Make Your Own Home “Dojo”   \n",
       "288  Make Your Own Home “Dojo”   \n",
       "289  Make Your Own Home “Dojo”   \n",
       "290  Make Your Own Home “Dojo”   \n",
       "291  Make Your Own Home “Dojo”   \n",
       "\n",
       "                                           Subcategory          Move_Name  \\\n",
       "287  Martial Arts Training Equipment– Practice mats...  Strength Training   \n",
       "288  Martial Arts Training Equipment– Practice mats...         Stretching   \n",
       "289  Martial Arts Training Equipment– Practice mats...  Warm-Up Exercises   \n",
       "290  Martial Arts Training Equipment– Practice mats...               Yoga   \n",
       "291  Martial Arts Training Equipment– Practice mats...      Other Fitness   \n",
       "\n",
       "                                             Move_Link  \n",
       "287        https://blackbeltwiki.com/strength-training  \n",
       "288               https://blackbeltwiki.com/stretching  \n",
       "289        https://blackbeltwiki.com/warm-up-exercises  \n",
       "290    https://blackbeltwiki.com/yoga-for-martial-arts  \n",
       "291  https://blackbeltwiki.com/martial-arts-physica...  "
      ]
     },
     "execution_count": 33,
     "metadata": {},
     "output_type": "execute_result"
    }
   ],
   "source": [
    "df_judo.info()\n",
    "df_judo.tail()"
   ]
  },
  {
   "cell_type": "code",
   "execution_count": 34,
   "metadata": {},
   "outputs": [
    {
     "data": {
      "text/html": [
       "<div>\n",
       "<style scoped>\n",
       "    .dataframe tbody tr th:only-of-type {\n",
       "        vertical-align: middle;\n",
       "    }\n",
       "\n",
       "    .dataframe tbody tr th {\n",
       "        vertical-align: top;\n",
       "    }\n",
       "\n",
       "    .dataframe thead th {\n",
       "        text-align: right;\n",
       "    }\n",
       "</style>\n",
       "<table border=\"1\" class=\"dataframe\">\n",
       "  <thead>\n",
       "    <tr style=\"text-align: right;\">\n",
       "      <th></th>\n",
       "      <th>Category</th>\n",
       "      <th>Subcategory</th>\n",
       "      <th>Move_Name</th>\n",
       "      <th>Move_Link</th>\n",
       "    </tr>\n",
       "  </thead>\n",
       "  <tbody>\n",
       "    <tr>\n",
       "      <th>109</th>\n",
       "      <td>Related Pages</td>\n",
       "      <td>NaN</td>\n",
       "      <td>Judo Hip Throws</td>\n",
       "      <td>https://blackbeltwiki.com/judo-throws-hip-tech...</td>\n",
       "    </tr>\n",
       "    <tr>\n",
       "      <th>110</th>\n",
       "      <td>Related Pages</td>\n",
       "      <td>NaN</td>\n",
       "      <td>Judo Hand Throws</td>\n",
       "      <td>https://blackbeltwiki.com/judo-throws-hand-tec...</td>\n",
       "    </tr>\n",
       "    <tr>\n",
       "      <th>111</th>\n",
       "      <td>Related Pages</td>\n",
       "      <td>NaN</td>\n",
       "      <td>Judo Foot Throws</td>\n",
       "      <td>https://blackbeltwiki.com/judo-throws-foot-tec...</td>\n",
       "    </tr>\n",
       "    <tr>\n",
       "      <th>112</th>\n",
       "      <td>Related Pages</td>\n",
       "      <td>NaN</td>\n",
       "      <td>Judo Sacrifice Throws</td>\n",
       "      <td>https://blackbeltwiki.com/judo-throws-sacrific...</td>\n",
       "    </tr>\n",
       "    <tr>\n",
       "      <th>113</th>\n",
       "      <td>Related Pages</td>\n",
       "      <td>NaN</td>\n",
       "      <td>Judo Forbidden Techniques</td>\n",
       "      <td>https://blackbeltwiki.com/kinshi-waza</td>\n",
       "    </tr>\n",
       "  </tbody>\n",
       "</table>\n",
       "</div>"
      ],
      "text/plain": [
       "          Category Subcategory                  Move_Name  \\\n",
       "109  Related Pages         NaN            Judo Hip Throws   \n",
       "110  Related Pages         NaN           Judo Hand Throws   \n",
       "111  Related Pages         NaN           Judo Foot Throws   \n",
       "112  Related Pages         NaN      Judo Sacrifice Throws   \n",
       "113  Related Pages         NaN  Judo Forbidden Techniques   \n",
       "\n",
       "                                             Move_Link  \n",
       "109  https://blackbeltwiki.com/judo-throws-hip-tech...  \n",
       "110  https://blackbeltwiki.com/judo-throws-hand-tec...  \n",
       "111  https://blackbeltwiki.com/judo-throws-foot-tec...  \n",
       "112  https://blackbeltwiki.com/judo-throws-sacrific...  \n",
       "113              https://blackbeltwiki.com/kinshi-waza  "
      ]
     },
     "execution_count": 34,
     "metadata": {},
     "output_type": "execute_result"
    }
   ],
   "source": [
    "# Clean up data file\n",
    "\n",
    "df_filtered = df_judo[~df_judo['Category'].str.contains('Make Your Own Home', case=False, na=False)]\n",
    "df_filtered = df_filtered[~df_filtered['Category'].str.contains('Martial arts books are', case=False, na=False)]\n",
    "df_filtered.tail()"
   ]
  },
  {
   "cell_type": "code",
   "execution_count": 35,
   "metadata": {},
   "outputs": [],
   "source": [
    "df_filtered.to_csv('data/judo_techniques_filtered.csv', index=False)\n",
    "df_judo = pd.read_csv('data/judo_techniques_filtered.csv')"
   ]
  },
  {
   "cell_type": "code",
   "execution_count": 36,
   "metadata": {},
   "outputs": [
    {
     "name": "stdout",
     "output_type": "stream",
     "text": [
      "<class 'pandas.core.frame.DataFrame'>\n",
      "RangeIndex: 114 entries, 0 to 113\n",
      "Data columns (total 4 columns):\n",
      " #   Column       Non-Null Count  Dtype \n",
      "---  ------       --------------  ----- \n",
      " 0   Category     114 non-null    object\n",
      " 1   Subcategory  93 non-null     object\n",
      " 2   Move_Name    114 non-null    object\n",
      " 3   Move_Link    114 non-null    object\n",
      "dtypes: object(4)\n",
      "memory usage: 3.7+ KB\n"
     ]
    }
   ],
   "source": [
    "df_judo.info()"
   ]
  }
 ],
 "metadata": {
  "kernelspec": {
   "display_name": "streamlit",
   "language": "python",
   "name": "python3"
  },
  "language_info": {
   "codemirror_mode": {
    "name": "ipython",
    "version": 3
   },
   "file_extension": ".py",
   "mimetype": "text/x-python",
   "name": "python",
   "nbconvert_exporter": "python",
   "pygments_lexer": "ipython3",
   "version": "3.12.8"
  }
 },
 "nbformat": 4,
 "nbformat_minor": 2
}
