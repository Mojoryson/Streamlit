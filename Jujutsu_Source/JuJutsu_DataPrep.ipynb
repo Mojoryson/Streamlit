{
 "cells": [
  {
   "cell_type": "code",
   "execution_count": 9,
   "metadata": {},
   "outputs": [],
   "source": [
    "from PIL import Image\n",
    "import pytesseract\n",
    "import fitz  # PyMuPDF\n",
    "import pandas as pd\n",
    "import re"
   ]
  },
  {
   "cell_type": "code",
   "execution_count": 17,
   "metadata": {},
   "outputs": [
    {
     "ename": "NameError",
     "evalue": "name 'data' is not defined",
     "output_type": "error",
     "traceback": [
      "\u001b[0;31m---------------------------------------------------------------------------\u001b[0m",
      "\u001b[0;31mNameError\u001b[0m                                 Traceback (most recent call last)",
      "Cell \u001b[0;32mIn[17], line 29\u001b[0m\n\u001b[1;32m     26\u001b[0m     df \u001b[38;5;241m=\u001b[39m pd\u001b[38;5;241m.\u001b[39mDataFrame(data)\n\u001b[1;32m     27\u001b[0m     \u001b[38;5;28;01mreturn\u001b[39;00m df\n\u001b[0;32m---> 29\u001b[0m \u001b[38;5;28mprint\u001b[39m(\u001b[43mdata\u001b[49m)\n",
      "\u001b[0;31mNameError\u001b[0m: name 'data' is not defined"
     ]
    }
   ],
   "source": [
    "def ocr_pdf_to_dataframe(pdf_path, dpi=300):\n",
    "    \"\"\"\n",
    "    Extracts text from a scanned PDF and stores it in a pandas DataFrame.\n",
    "    Args:\n",
    "        pdf_path (str): Path to the scanned PDF file.\n",
    "        dpi (int): Resolution for rendering PDF pages (higher DPI = better OCR).\n",
    "\n",
    "    Returns:\n",
    "        pd.DataFrame: A DataFrame with pages and their extracted content.\n",
    "    \"\"\"\n",
    "    data = []  # Store page number and content\n",
    "\n",
    "    with fitz.open(pdf_path) as pdf:\n",
    "        for page_num in range(len(pdf)):\n",
    "            # Convert the page to an image\n",
    "            pix = pdf[page_num].get_pixmap(dpi=dpi)\n",
    "            img = Image.frombytes(\"RGB\", [pix.width, pix.height], pix.samples)\n",
    "            \n",
    "            # Perform OCR on the image\n",
    "            page_text = pytesseract.image_to_string(img)\n",
    "            \n",
    "            # Append to the data list\n",
    "            data.append({\"page\": page_num + 1, \"content\": page_text})\n",
    "    \n",
    "    # Convert to DataFrame\n",
    "    df = pd.DataFrame(data)\n",
    "    return df\n"
   ]
  },
  {
   "cell_type": "code",
   "execution_count": 6,
   "metadata": {},
   "outputs": [
    {
     "data": {
      "text/html": [
       "<div>\n",
       "<style scoped>\n",
       "    .dataframe tbody tr th:only-of-type {\n",
       "        vertical-align: middle;\n",
       "    }\n",
       "\n",
       "    .dataframe tbody tr th {\n",
       "        vertical-align: top;\n",
       "    }\n",
       "\n",
       "    .dataframe thead th {\n",
       "        text-align: right;\n",
       "    }\n",
       "</style>\n",
       "<table border=\"1\" class=\"dataframe\">\n",
       "  <thead>\n",
       "    <tr style=\"text-align: right;\">\n",
       "      <th></th>\n",
       "      <th>page</th>\n",
       "      <th>content</th>\n",
       "    </tr>\n",
       "  </thead>\n",
       "  <tbody>\n",
       "    <tr>\n",
       "      <th>0</th>\n",
       "      <td>1</td>\n",
       "      <td>CHAPTER 2 - STANDING\\n\\nDEFENSES FROM BEHIND\\n...</td>\n",
       "    </tr>\n",
       "    <tr>\n",
       "      <th>1</th>\n",
       "      <td>2</td>\n",
       "      <td>CHAPTER 4 - THE MOUNT\\n\\n160\\n162\\n164\\n166\\n1...</td>\n",
       "    </tr>\n",
       "  </tbody>\n",
       "</table>\n",
       "</div>"
      ],
      "text/plain": [
       "   page                                            content\n",
       "0     1  CHAPTER 2 - STANDING\\n\\nDEFENSES FROM BEHIND\\n...\n",
       "1     2  CHAPTER 4 - THE MOUNT\\n\\n160\\n162\\n164\\n166\\n1..."
      ]
     },
     "execution_count": 6,
     "metadata": {},
     "output_type": "execute_result"
    }
   ],
   "source": [
    "# Specify the path to your scanned PDF\n",
    "pdf_path = \"data/toc.pdf\"  # Replace with your file path\n",
    "\n",
    "# Extract text from the scanned PDF\n",
    "df = ocr_pdf_to_dataframe(pdf_path)\n",
    "\n",
    "# Display the first few rows of the DataFrame\n",
    "df.head()\n",
    "\n"
   ]
  },
  {
   "cell_type": "code",
   "execution_count": 8,
   "metadata": {},
   "outputs": [],
   "source": [
    "df.to_csv(\"data/extracted_text.csv\", index=False)"
   ]
  },
  {
   "cell_type": "code",
   "execution_count": 10,
   "metadata": {},
   "outputs": [],
   "source": [
    "# clean up the DataFrame by removing any rows with empty content\n",
    "def clean_text(text):\n",
    "    \"\"\"\n",
    "    Cleans OCR-extracted text by removing extra whitespace, line breaks, and special characters.\n",
    "    Args:\n",
    "        text (str): Raw text extracted from OCR.\n",
    "\n",
    "    Returns:\n",
    "        str: Cleaned text.\n",
    "    \"\"\"\n",
    "    # Remove extra whitespace and line breaks\n",
    "    text = re.sub(r'\\s+', ' ', text).strip()\n",
    "    # Optionally remove special characters (adjust this as needed)\n",
    "    text = re.sub(r'[^\\w\\s.,]', '', text)\n",
    "    return text"
   ]
  },
  {
   "cell_type": "code",
   "execution_count": 19,
   "metadata": {},
   "outputs": [],
   "source": [
    "# Apply the cleaning function to the content column\n",
    "df['cleaned_content'] = df['content'].apply(clean_text)"
   ]
  },
  {
   "cell_type": "code",
   "execution_count": 23,
   "metadata": {},
   "outputs": [
    {
     "data": {
      "text/html": [
       "<div>\n",
       "<style scoped>\n",
       "    .dataframe tbody tr th:only-of-type {\n",
       "        vertical-align: middle;\n",
       "    }\n",
       "\n",
       "    .dataframe tbody tr th {\n",
       "        vertical-align: top;\n",
       "    }\n",
       "\n",
       "    .dataframe thead th {\n",
       "        text-align: right;\n",
       "    }\n",
       "</style>\n",
       "<table border=\"1\" class=\"dataframe\">\n",
       "  <thead>\n",
       "    <tr style=\"text-align: right;\">\n",
       "      <th></th>\n",
       "      <th>page</th>\n",
       "      <th>content</th>\n",
       "      <th>cleaned_content</th>\n",
       "    </tr>\n",
       "  </thead>\n",
       "  <tbody>\n",
       "    <tr>\n",
       "      <th>0</th>\n",
       "      <td>1</td>\n",
       "      <td>CHAPTER 2 - STANDING\\n\\nDEFENSES FROM BEHIND\\n...</td>\n",
       "      <td>CHAPTER 2  STANDING DEFENSES FROM BEHIND 98  R...</td>\n",
       "    </tr>\n",
       "    <tr>\n",
       "      <th>1</th>\n",
       "      <td>2</td>\n",
       "      <td>CHAPTER 4 - THE MOUNT\\n\\n160\\n162\\n164\\n166\\n1...</td>\n",
       "      <td>CHAPTER 4  THE MOUNT 160 162 164 166 168  Upwa...</td>\n",
       "    </tr>\n",
       "  </tbody>\n",
       "</table>\n",
       "</div>"
      ],
      "text/plain": [
       "   page                                            content  \\\n",
       "0     1  CHAPTER 2 - STANDING\\n\\nDEFENSES FROM BEHIND\\n...   \n",
       "1     2  CHAPTER 4 - THE MOUNT\\n\\n160\\n162\\n164\\n166\\n1...   \n",
       "\n",
       "                                     cleaned_content  \n",
       "0  CHAPTER 2  STANDING DEFENSES FROM BEHIND 98  R...  \n",
       "1  CHAPTER 4  THE MOUNT 160 162 164 166 168  Upwa...  "
      ]
     },
     "execution_count": 23,
     "metadata": {},
     "output_type": "execute_result"
    }
   ],
   "source": [
    "df"
   ]
  },
  {
   "cell_type": "code",
   "execution_count": 21,
   "metadata": {},
   "outputs": [],
   "source": [
    "df.to_csv(\"data/cleaned_extracted_text.csv\", index=False)"
   ]
  },
  {
   "cell_type": "code",
   "execution_count": 30,
   "metadata": {},
   "outputs": [],
   "source": [
    "# Function to parse the DataFrame content\n",
    "def parse_defenses(df):\n",
    "    data = []  # List to store the structured data\n",
    "    current_defense = None  # Track the current ALL CAPS defense category\n",
    "\n",
    "    # Split content into lines for processing\n",
    "    lines = df['content'].str.split('\\n').explode().dropna().reset_index(drop=True)\n",
    "    \n",
    "    buffer = \"\"  # Buffer to handle multiline techniques\n",
    "    \n",
    "    for line in lines:\n",
    "        line = line.strip()  # Remove leading/trailing whitespace\n",
    "\n",
    "        if not line:  # Skip empty lines\n",
    "            continue\n",
    "\n",
    "        # Check for ALL CAPS lines (Defense category)\n",
    "        if line.isupper():\n",
    "            current_defense = line\n",
    "        else:\n",
    "            # Match techniques with page numbers (e.g., \"98 — Rear choke defense\")\n",
    "            match = re.match(r\"(\\d+)\\s*[—~\\-]\\s*(.+)\", line)\n",
    "            if match:\n",
    "                # If there's buffered text, append it to the previous technique\n",
    "                if buffer:\n",
    "                    data[-1]['Technique'] += f\" {buffer}\"\n",
    "                    buffer = \"\"\n",
    "\n",
    "                # Extract page number and technique\n",
    "                page = int(match.group(1))\n",
    "                technique = match.group(2).strip()\n",
    "\n",
    "                # Add to data\n",
    "                data.append({\n",
    "                    \"Defense\": current_defense,\n",
    "                    \"Technique\": technique,\n",
    "                    \"Page\": page\n",
    "                })\n",
    "            else:\n",
    "                # If the line doesn't match a page number, buffer it (multiline technique)\n",
    "                buffer += f\" {line.strip()}\"\n",
    "\n",
    "    # If there's leftover buffer, append it to the last technique\n",
    "    if buffer and data:\n",
    "        data[-1]['Technique'] += f\" {buffer}\"\n",
    "\n",
    "    # Convert to a DataFrame\n",
    "    return pd.DataFrame(data)"
   ]
  },
  {
   "cell_type": "code",
   "execution_count": 31,
   "metadata": {},
   "outputs": [
    {
     "name": "stdout",
     "output_type": "stream",
     "text": [
      "                  Defense                                          Technique  \\\n",
      "0    DEFENSES FROM BEHIND                                 Rear choke defense   \n",
      "1    DEFENSES FROM BEHIND  Rear choke defense pulled back  (with side throw)   \n",
      "2    DEFENSES FROM BEHIND  Rear choke defense pulled back  (with overhead...   \n",
      "3    DEFENSES FROM BEHIND                        Rear two-hand choke defense   \n",
      "4    DEFENSES FROM BEHIND               Rear bear hug over the arms  defense   \n",
      "..                    ...                                                ...   \n",
      "75  CHAPTER 4 - THE MOUNT                         Cross choke (thumb inside)   \n",
      "76  CHAPTER 4 - THE MOUNT                                   Nutcracker choke   \n",
      "77  CHAPTER 4 - THE MOUNT                                         Neck crank   \n",
      "78  CHAPTER 4 - THE MOUNT    Keeping the mount (opponent  pushing the chest)   \n",
      "79  CHAPTER 4 - THE MOUNT  Keeping the mount (opponent  — Elbow escape dr...   \n",
      "\n",
      "    Page  \n",
      "0     98  \n",
      "1    100  \n",
      "2    102  \n",
      "3    104  \n",
      "4    106  \n",
      "..   ...  \n",
      "75   183  \n",
      "76   184  \n",
      "77   185  \n",
      "78   186  \n",
      "79   187  \n",
      "\n",
      "[80 rows x 3 columns]\n"
     ]
    }
   ],
   "source": [
    "df = pd.read_csv(\"data/extracted_text.csv\")\n",
    "\n",
    "# Parse the content\n",
    "parsed_df = parse_defenses(df)\n",
    "\n",
    "# Display the structured DataFrame\n",
    "print(parsed_df)"
   ]
  },
  {
   "cell_type": "code",
   "execution_count": 32,
   "metadata": {},
   "outputs": [],
   "source": [
    "parsed_df.to_csv(\"data/toc.csv\", index=False)"
   ]
  },
  {
   "cell_type": "code",
   "execution_count": 33,
   "metadata": {},
   "outputs": [
    {
     "name": "stdout",
     "output_type": "stream",
     "text": [
      "58 — Headlock defense (pressure on the nose\n",
      "\n",
      "60 — Headlock defense against a wall\n",
      "(attacker outside)\n",
      "\n",
      "62 — Headlock defense against a wall\n",
      "(attacker inside)\n",
      "\n",
      "64 — Guillotine defense (sitting back)\n",
      "\n",
      "66 — Guillotine defense (sliding down)\n",
      "\n",
      "68 — Guillotine defense (with trip takedown)\n",
      "\n",
      "70 — Guillotine choke\n",
      "\n",
      "72 — Guillotine choke (if taken down)\n",
      "\n",
      "74 — Tackle defense (with elbow strike)\n",
      "\n",
      "75 — Tackle defense (with knee strike)\n",
      "\n",
      "76 — Front bear hug over the arms defense\n",
      "\n",
      "78 — Front bear hug under arms defense\n",
      "(with frame)\n",
      "\n",
      "79 — Front bear hug under arms defense\n",
      "(with chin push)\n",
      "\n",
      "80 — Sucker punch defense\n",
      "\n",
      "82 — Haymaker punch defense\n",
      "\n",
      "84 — Front kick defense\n",
      "\n",
      "86 — Front kick defense (with pivot)\n",
      "\n",
      "87 — Front kick defense (high)\n",
      "\n",
      "88 — Roundhouse kick defense\n",
      "\n",
      "90 — Standing up in base\n",
      "\n",
      "92 — Hand chop\n",
      "\n",
      "93 — Punch\n",
      "\n",
      "94 — Elbow strike\n",
      "\n",
      "95 — Side kick (surprise attack)\n",
      "\n",
      "95 — Side kick\n",
      "\n",
      ")\n",
      "\n"
     ]
    }
   ],
   "source": [
    "from PIL import Image\n",
    "import pytesseract\n",
    "\n",
    "# Load the image\n",
    "image_path = \"data/toc.png\"  # Replace with your image file path\n",
    "image = Image.open(image_path)\n",
    "\n",
    "# Perform OCR\n",
    "extracted_text = pytesseract.image_to_string(image)\n",
    "\n",
    "# Print the extracted text\n",
    "print(extracted_text)\n",
    "\n"
   ]
  },
  {
   "cell_type": "code",
   "execution_count": 52,
   "metadata": {},
   "outputs": [
    {
     "name": "stdout",
     "output_type": "stream",
     "text": [
      "1: 58 — Headlock defense (pressure on the nose\n",
      "2: \n",
      "3: 60 — Headlock defense against a wall\n",
      "4: (attacker outside)\n",
      "5: \n",
      "6: 62 — Headlock defense against a wall\n",
      "7: (attacker inside)\n",
      "8: \n",
      "9: 64 — Guillotine defense (sitting back)\n",
      "10: \n",
      "11: 66 — Guillotine defense (sliding down)\n",
      "12: \n",
      "13: 68 — Guillotine defense (with trip takedown)\n",
      "14: \n",
      "15: 70 — Guillotine choke\n",
      "16: \n",
      "17: 72 — Guillotine choke (if taken down)\n",
      "18: \n",
      "19: 74 — Tackle defense (with elbow strike)\n",
      "20: \n",
      "21: 75 — Tackle defense (with knee strike)\n",
      "22: \n",
      "23: 76 — Front bear hug over the arms defense\n",
      "24: \n",
      "25: 78 — Front bear hug under arms defense\n",
      "26: (with frame)\n",
      "27: \n",
      "28: 79 — Front bear hug under arms defense\n",
      "29: (with chin push)\n",
      "30: \n",
      "31: 80 — Sucker punch defense\n",
      "32: \n",
      "33: 82 — Haymaker punch defense\n",
      "34: \n",
      "35: 84 — Front kick defense\n",
      "36: \n",
      "37: 86 — Front kick defense (with pivot)\n",
      "38: \n",
      "39: 87 — Front kick defense (high)\n",
      "40: \n",
      "41: 88 — Roundhouse kick defense\n",
      "42: \n",
      "43: 90 — Standing up in base\n",
      "44: \n",
      "45: 92 — Hand chop\n",
      "46: \n",
      "47: 93 — Punch\n",
      "48: \n",
      "49: 94 — Elbow strike\n",
      "50: \n",
      "51: 95 — Side kick (surprise attack)\n",
      "52: \n",
      "53: 95 — Side kick\n",
      "54: \n",
      "55: )\n",
      "56: \n"
     ]
    }
   ],
   "source": [
    "lines = extracted_text.split('\\n')\n",
    "\n",
    "data_1 = []  # List to store the structured data\n",
    "for line in lines:\n",
    "    line = line.strip()\n",
    "    data_1.append(line)\n",
    "    \n",
    "\n",
    "for index, line in enumerate(data_1):\n",
    "    print(f\"{index + 1}: {line}\")\n",
    "    "
   ]
  },
  {
   "cell_type": "code",
   "execution_count": 51,
   "metadata": {},
   "outputs": [
    {
     "name": "stdout",
     "output_type": "stream",
     "text": [
      "(attacker outside)\n"
     ]
    }
   ],
   "source": []
  },
  {
   "cell_type": "code",
   "execution_count": 34,
   "metadata": {},
   "outputs": [],
   "source": [
    "lines = extracted_text.split('\\n')\n",
    "\n",
    "# Step 2: Parse lines to extract page and technique\n",
    "data = []\n",
    "buffer = \"\"\n",
    "current_page = None\n",
    "\n",
    "for line in lines:\n",
    "    line = line.strip()\n",
    "    \n",
    "    if not line:\n",
    "        continue\n",
    "    \n",
    "    # Match lines with page numbers and techniques\n",
    "    match = re.match(r\"(\\d+)\\s*[—~\\-]\\s*(.+)\", line)\n",
    "    if match:\n",
    "        if buffer:\n",
    "            data[-1]['Technique'] += f\" {buffer.strip()}\"\n",
    "            buffer = \"\"\n",
    "        \n",
    "        page = int(match.group(1))\n",
    "        technique = match.group(2).strip()\n",
    "    else:\n",
    "        # Buffer multiline techniques\n",
    "        buffer += f\" {line.strip()}\"\n",
    "        \n",
    "        data.append({\n",
    "            \"Page\": page,\n",
    "            \"Technique\": technique\n",
    "        })\n",
    "        \n",
    "if buffer and data:\n",
    "    data[-1]['Technique'] += f\" {buffer.strip()}\""
   ]
  },
  {
   "cell_type": "code",
   "execution_count": 38,
   "metadata": {},
   "outputs": [
    {
     "name": "stdout",
     "output_type": "stream",
     "text": [
      "[{'Page': 60, 'Technique': 'Headlock defense against a wall (attacker outside)'}, {'Page': 62, 'Technique': 'Headlock defense against a wall (attacker inside)'}, {'Page': 78, 'Technique': 'Front bear hug under arms defense (with frame)'}, {'Page': 79, 'Technique': 'Front bear hug under arms defense (with chin push)'}, {'Page': 95, 'Technique': 'Side kick )'}]\n",
      "#########\n"
     ]
    },
    {
     "data": {
      "text/plain": [
       "56"
      ]
     },
     "execution_count": 38,
     "metadata": {},
     "output_type": "execute_result"
    }
   ],
   "source": [
    "print(data)\n",
    "print(\"#########\")\n",
    "len(data)\n",
    "len(lines)"
   ]
  },
  {
   "cell_type": "code",
   "execution_count": 36,
   "metadata": {},
   "outputs": [
    {
     "name": "stdout",
     "output_type": "stream",
     "text": [
      "   Page                                          Technique\n",
      "0    60  Headlock defense against a wall (attacker outs...\n",
      "1    62  Headlock defense against a wall (attacker inside)\n",
      "2    78     Front bear hug under arms defense (with frame)\n",
      "3    79  Front bear hug under arms defense (with chin p...\n",
      "4    95                                        Side kick )\n"
     ]
    }
   ],
   "source": [
    "# Step 3: Convert to DataFrame\n",
    "df = pd.DataFrame(data)\n",
    "\n",
    "# Display the structured DataFrame\n",
    "print(df)\n"
   ]
  }
 ],
 "metadata": {
  "kernelspec": {
   "display_name": "streamlit",
   "language": "python",
   "name": "python3"
  },
  "language_info": {
   "codemirror_mode": {
    "name": "ipython",
    "version": 3
   },
   "file_extension": ".py",
   "mimetype": "text/x-python",
   "name": "python",
   "nbconvert_exporter": "python",
   "pygments_lexer": "ipython3",
   "version": "3.12.8"
  }
 },
 "nbformat": 4,
 "nbformat_minor": 2
}
